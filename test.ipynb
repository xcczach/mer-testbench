{
 "cells": [
  {
   "cell_type": "code",
   "execution_count": 1,
   "metadata": {},
   "outputs": [
    {
     "data": {
      "text/plain": [
       "<module 'test_bench' from 'd:\\\\xcc\\\\大学\\\\保研\\\\电院\\\\mer_ov_exp1\\\\test_bench.py'>"
      ]
     },
     "execution_count": 1,
     "metadata": {},
     "output_type": "execute_result"
    }
   ],
   "source": [
    "import test_bench\n",
    "import json\n",
    "import pandas as pd\n",
    "import importlib\n",
    "importlib.reload(test_bench)"
   ]
  },
  {
   "cell_type": "code",
   "execution_count": 2,
   "metadata": {},
   "outputs": [],
   "source": [
    "prediction_emotion_strs = []\n",
    "sample_ids = []\n",
    "with open(\"result.json\", \"r\", encoding=\"utf-8\") as f:\n",
    "    prediction_json = json.load(f)\n",
    "for item in prediction_json[\"data\"]:\n",
    "    prediction_emotion_strs.append(item[\"emotion\"])\n",
    "    sample_ids.append(item[\"id\"])\n",
    "\n",
    "    df = pd.read_csv(\"final-openset-chinese.csv\")\n",
    "    true_emotion_strs = list(df.iloc[:, 1].to_numpy())\n",
    "\n"
   ]
  },
  {
   "cell_type": "code",
   "execution_count": 4,
   "metadata": {},
   "outputs": [
    {
     "name": "stdout",
     "output_type": "stream",
     "text": [
      "sample 0: accuracy: 0.0, recall: 0.0, score: 0.0\n"
     ]
    },
    {
     "data": {
      "text/html": [
       "<div>\n",
       "<style scoped>\n",
       "    .dataframe tbody tr th:only-of-type {\n",
       "        vertical-align: middle;\n",
       "    }\n",
       "\n",
       "    .dataframe tbody tr th {\n",
       "        vertical-align: top;\n",
       "    }\n",
       "\n",
       "    .dataframe thead th {\n",
       "        text-align: right;\n",
       "    }\n",
       "</style>\n",
       "<table border=\"1\" class=\"dataframe\">\n",
       "  <thead>\n",
       "    <tr style=\"text-align: right;\">\n",
       "      <th></th>\n",
       "      <th>sample_index</th>\n",
       "      <th>sample</th>\n",
       "      <th>emotion_group</th>\n",
       "      <th>accuracy</th>\n",
       "      <th>recall</th>\n",
       "      <th>score</th>\n",
       "    </tr>\n",
       "  </thead>\n",
       "  <tbody>\n",
       "    <tr>\n",
       "      <th>0</th>\n",
       "      <td>0</td>\n",
       "      <td>sample_00000000</td>\n",
       "      <td>[[激动], [痛苦, 难受, 伤心, 悲伤], [愉快, 轻松], [自嘲, 幽默]]</td>\n",
       "      <td>0.0</td>\n",
       "      <td>0.0</td>\n",
       "      <td>0.0</td>\n",
       "    </tr>\n",
       "  </tbody>\n",
       "</table>\n",
       "</div>"
      ],
      "text/plain": [
       "   sample_index           sample   \n",
       "0             0  sample_00000000  \\\n",
       "\n",
       "                                  emotion_group  accuracy  recall  score  \n",
       "0  [[激动], [痛苦, 难受, 伤心, 悲伤], [愉快, 轻松], [自嘲, 幽默]]       0.0     0.0    0.0  "
      ]
     },
     "execution_count": 4,
     "metadata": {},
     "output_type": "execute_result"
    }
   ],
   "source": [
    "test_bench.test(prediction_emotion_strs, true_emotion_strs, sample_ids)"
   ]
  }
 ],
 "metadata": {
  "kernelspec": {
   "display_name": "Python 3",
   "language": "python",
   "name": "python3"
  },
  "language_info": {
   "codemirror_mode": {
    "name": "ipython",
    "version": 3
   },
   "file_extension": ".py",
   "mimetype": "text/x-python",
   "name": "python",
   "nbconvert_exporter": "python",
   "pygments_lexer": "ipython3",
   "version": "3.11.0"
  }
 },
 "nbformat": 4,
 "nbformat_minor": 2
}
